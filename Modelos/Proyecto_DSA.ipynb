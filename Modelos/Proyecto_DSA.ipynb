{
  "nbformat": 4,
  "nbformat_minor": 0,
  "metadata": {
    "colab": {
      "provenance": []
    },
    "kernelspec": {
      "name": "python3",
      "display_name": "Python 3"
    },
    "language_info": {
      "name": "python"
    }
  },
  "cells": [
    {
      "cell_type": "code",
      "source": [
        "# Incluir las bibliotecas requeridas para el preprocesamiento\n",
        "import pandas as pd\n",
        "import numpy as np\n",
        "import matplotlib.pyplot as plt\n",
        "import seaborn as sns\n",
        "from sklearn.model_selection import train_test_split\n",
        "from sklearn.linear_model import LogisticRegression\n",
        "from sklearn.ensemble import RandomForestClassifier\n",
        "from xgboost import XGBClassifier\n",
        "from sklearn.svm import SVC\n",
        "from sklearn.metrics import accuracy_score, recall_score, classification_report\n",
        "from sklearn.calibration import calibration_curve\n",
        "from sklearn.calibration import CalibratedClassifierCV\n",
        "from sklearn.model_selection import GridSearchCV"
      ],
      "metadata": {
        "id": "kLe_HY_jJtYe"
      },
      "execution_count": 1,
      "outputs": []
    },
    {
      "cell_type": "code",
      "execution_count": 2,
      "metadata": {
        "colab": {
          "base_uri": "https://localhost:8080/"
        },
        "id": "v2eKyyvIXNAp",
        "outputId": "5b541833-a38c-4a9a-c101-f2c7ecb79296"
      },
      "outputs": [
        {
          "output_type": "stream",
          "name": "stdout",
          "text": [
            "   Diabetes_012  HighBP  HighChol   BMI  HeartDiseaseorAttack  GenHlth   Age\n",
            "0           0.0     0.0       0.0  21.0                   0.0      1.0   8.0\n",
            "1           0.0     1.0       1.0  25.0                   0.0      3.0  10.0\n",
            "2           0.0     1.0       0.0  23.0                   0.0      2.0  11.0\n",
            "3           0.0     0.0       1.0  26.0                   0.0      1.0  10.0\n",
            "4           0.0     0.0       1.0  25.0                   0.0      1.0   7.0\n"
          ]
        }
      ],
      "source": [
        "import pandas as pd\n",
        "\n",
        "# URL del archivo CSV público en S3\n",
        "url = 'https://diabetes-dvcstore.s3.us-east-1.amazonaws.com/files/md5/10/1cada3906fab160ea188043d7f9a1b'\n",
        "# Carga el archivo directamente en un DataFrame de pandas\n",
        "df = pd.read_csv(url)\n",
        "\n",
        "# Ver las primeras filas del DataFrame\n",
        "print(df.head())\n",
        "\n"
      ]
    },
    {
      "cell_type": "code",
      "source": [
        "# Separar las características (X) y la variable objetivo (y)\n",
        "# Importar la función train_test_split\n",
        "from sklearn.model_selection import train_test_split\n",
        "X = df.drop(columns=['Diabetes_012']) #resto de columnas\n",
        "y = df['Diabetes_012']  # La columna objetivo predecir\n",
        "\n",
        "X_train, X_test, y_train, y_test = train_test_split(X, y, test_size=0.25, random_state=42)\n",
        "\n",
        "print(X_test)"
      ],
      "metadata": {
        "colab": {
          "base_uri": "https://localhost:8080/"
        },
        "id": "kvReV2lvZMnb",
        "outputId": "f884ce82-c499-4ed1-d08e-f2d96c89c718"
      },
      "execution_count": 3,
      "outputs": [
        {
          "output_type": "stream",
          "name": "stdout",
          "text": [
            "       HighBP  HighChol   BMI  HeartDiseaseorAttack  GenHlth   Age\n",
            "43070     1.0       1.0  30.0                   1.0      3.0   9.0\n",
            "15906     0.0       0.0  26.0                   0.0      4.0   7.0\n",
            "66360     1.0       1.0  40.0                   0.0      3.0  12.0\n",
            "7029      0.0       1.0  30.0                   0.0      3.0   7.0\n",
            "8053      1.0       1.0  24.0                   0.0      4.0   5.0\n",
            "...       ...       ...   ...                   ...      ...   ...\n",
            "69056     1.0       1.0  34.0                   0.0      3.0   6.0\n",
            "30082     1.0       1.0  29.0                   0.0      2.0  10.0\n",
            "3016      0.0       0.0  30.0                   0.0      3.0   5.0\n",
            "13378     0.0       0.0  27.0                   0.0      4.0   6.0\n",
            "60779     0.0       0.0  28.0                   0.0      3.0   9.0\n",
            "\n",
            "[17319 rows x 6 columns]\n"
          ]
        }
      ]
    },
    {
      "cell_type": "code",
      "source": [
        "pip install catboost\n"
      ],
      "metadata": {
        "colab": {
          "base_uri": "https://localhost:8080/"
        },
        "id": "X91_vRISmF9O",
        "outputId": "4f3838ea-14eb-4038-b0bf-1b24e35e5480"
      },
      "execution_count": 4,
      "outputs": [
        {
          "output_type": "stream",
          "name": "stdout",
          "text": [
            "Requirement already satisfied: catboost in /usr/local/lib/python3.10/dist-packages (1.2.7)\n",
            "Requirement already satisfied: graphviz in /usr/local/lib/python3.10/dist-packages (from catboost) (0.20.3)\n",
            "Requirement already satisfied: matplotlib in /usr/local/lib/python3.10/dist-packages (from catboost) (3.8.0)\n",
            "Requirement already satisfied: numpy<2.0,>=1.16.0 in /usr/local/lib/python3.10/dist-packages (from catboost) (1.26.4)\n",
            "Requirement already satisfied: pandas>=0.24 in /usr/local/lib/python3.10/dist-packages (from catboost) (2.2.2)\n",
            "Requirement already satisfied: scipy in /usr/local/lib/python3.10/dist-packages (from catboost) (1.13.1)\n",
            "Requirement already satisfied: plotly in /usr/local/lib/python3.10/dist-packages (from catboost) (5.24.1)\n",
            "Requirement already satisfied: six in /usr/local/lib/python3.10/dist-packages (from catboost) (1.16.0)\n",
            "Requirement already satisfied: python-dateutil>=2.8.2 in /usr/local/lib/python3.10/dist-packages (from pandas>=0.24->catboost) (2.8.2)\n",
            "Requirement already satisfied: pytz>=2020.1 in /usr/local/lib/python3.10/dist-packages (from pandas>=0.24->catboost) (2024.2)\n",
            "Requirement already satisfied: tzdata>=2022.7 in /usr/local/lib/python3.10/dist-packages (from pandas>=0.24->catboost) (2024.2)\n",
            "Requirement already satisfied: contourpy>=1.0.1 in /usr/local/lib/python3.10/dist-packages (from matplotlib->catboost) (1.3.0)\n",
            "Requirement already satisfied: cycler>=0.10 in /usr/local/lib/python3.10/dist-packages (from matplotlib->catboost) (0.12.1)\n",
            "Requirement already satisfied: fonttools>=4.22.0 in /usr/local/lib/python3.10/dist-packages (from matplotlib->catboost) (4.54.1)\n",
            "Requirement already satisfied: kiwisolver>=1.0.1 in /usr/local/lib/python3.10/dist-packages (from matplotlib->catboost) (1.4.7)\n",
            "Requirement already satisfied: packaging>=20.0 in /usr/local/lib/python3.10/dist-packages (from matplotlib->catboost) (24.1)\n",
            "Requirement already satisfied: pillow>=6.2.0 in /usr/local/lib/python3.10/dist-packages (from matplotlib->catboost) (10.4.0)\n",
            "Requirement already satisfied: pyparsing>=2.3.1 in /usr/local/lib/python3.10/dist-packages (from matplotlib->catboost) (3.2.0)\n",
            "Requirement already satisfied: tenacity>=6.2.0 in /usr/local/lib/python3.10/dist-packages (from plotly->catboost) (9.0.0)\n"
          ]
        }
      ]
    },
    {
      "cell_type": "markdown",
      "source": [
        "MODELO DE REDES NEURONALES"
      ],
      "metadata": {
        "id": "mYPZU_zTG-Lm"
      }
    },
    {
      "cell_type": "code",
      "source": [
        "# Importar las librerías necesarias\n",
        "from sklearn.neural_network import MLPClassifier\n",
        "from sklearn.metrics import accuracy_score, classification_report, recall_score\n",
        "\n",
        "# Crear el modelo de red neuronal (MLPClassifier)\n",
        "modelo_nn = MLPClassifier(hidden_layer_sizes=(300,), max_iter=600, random_state=64)\n",
        "modelo_nn.fit(X_train, y_train)\n",
        "y_pred = modelo_nn.predict(X_test)\n",
        "\n",
        "# Calcular la precisión del modelo\n",
        "accuracy = accuracy_score(y_test, y_pred)\n",
        "recall = recall_score(y_test, y_pred)\n",
        "\n",
        "# Imprimir los resultados\n",
        "print(f'Precisión del modelo de redes neuronales: {accuracy * 100:.2f}%')\n",
        "print(f'Recall por clase: {recall* 100:.2f}%')\n",
        "print('\\nReporte de clasificación:')\n",
        "print(classification_report(y_test, y_pred))\n",
        "\n",
        "# Opcional: Ver las primeras filas de las predicciones en comparación con los valores reales\n",
        "comparacion = pd.DataFrame({'Real': y_test, 'Predicción': y_pred})\n",
        "print(comparacion.head())\n"
      ],
      "metadata": {
        "colab": {
          "base_uri": "https://localhost:8080/"
        },
        "id": "IkFtF9H3oPSd",
        "outputId": "f82bd3a5-be4a-46e3-857b-3c46a88c5a22"
      },
      "execution_count": 5,
      "outputs": [
        {
          "output_type": "stream",
          "name": "stdout",
          "text": [
            "Precisión del modelo de redes neuronales: 74.53%\n",
            "Recall por clase: 84.75%\n",
            "\n",
            "Reporte de clasificación:\n",
            "              precision    recall  f1-score   support\n",
            "\n",
            "         0.0       0.81      0.64      0.72      8629\n",
            "         1.0       0.70      0.85      0.77      8690\n",
            "\n",
            "    accuracy                           0.75     17319\n",
            "   macro avg       0.76      0.74      0.74     17319\n",
            "weighted avg       0.76      0.75      0.74     17319\n",
            "\n",
            "       Real  Predicción\n",
            "43070   1.0         1.0\n",
            "15906   0.0         0.0\n",
            "66360   1.0         1.0\n",
            "7029    0.0         1.0\n",
            "8053    0.0         1.0\n"
          ]
        }
      ]
    },
    {
      "cell_type": "markdown",
      "source": [
        "MODELO DE CATBOOSTCLASSIFIER"
      ],
      "metadata": {
        "id": "wXCsUexUHMHS"
      }
    },
    {
      "cell_type": "code",
      "source": [
        "# Importar las librerías necesarias\n",
        "\n",
        "from catboost import CatBoostClassifier\n",
        "from sklearn.metrics import accuracy_score, classification_report, recall_score\n",
        "\n",
        "# Crear el modelo de CatBoost\n",
        "modelo_cb = CatBoostClassifier(iterations=1000, depth=6, learning_rate=0.1, random_state=42, cat_features=[], verbose=200)\n",
        "modelo_cb.fit(X_train, y_train)\n",
        "y_pred = modelo_cb.predict(X_test)\n",
        "\n",
        "# Calcular la precisión del modelo\n",
        "accuracy = accuracy_score(y_test, y_pred)\n",
        "\n",
        "# Calcular el recall (sensibilidad) para cada clase\n",
        "recall = recall_score(y_test, y_pred)\n",
        "\n",
        "# Imprimir los resultados\n",
        "print(f'Precisión del modelo CatBoost: {accuracy * 100:.2f}%')\n",
        "print('\\nReporte de clasificación:')\n",
        "print(classification_report(y_test, y_pred))\n",
        "\n",
        "# Mostrar el recall individual por clase\n",
        "print(f'Recall por clase: {recall* 100:.2f}%')\n",
        "\n",
        "# Opcional: Ver las primeras filas de las predicciones en comparación con los valores reales\n",
        "comparacion = pd.DataFrame({'Real': y_test, 'Predicción': y_pred})\n",
        "print(comparacion.head())\n"
      ],
      "metadata": {
        "colab": {
          "base_uri": "https://localhost:8080/"
        },
        "id": "HytU5QJrlkMo",
        "outputId": "d98cca06-963f-423b-cfa7-492c131e3313"
      },
      "execution_count": 6,
      "outputs": [
        {
          "output_type": "stream",
          "name": "stdout",
          "text": [
            "0:\tlearn: 0.6571431\ttotal: 58.8ms\tremaining: 58.8s\n",
            "200:\tlearn: 0.4989880\ttotal: 3.12s\tremaining: 12.4s\n",
            "400:\tlearn: 0.4935439\ttotal: 10.3s\tremaining: 15.4s\n",
            "600:\tlearn: 0.4894964\ttotal: 16.5s\tremaining: 11s\n",
            "800:\tlearn: 0.4862809\ttotal: 23.8s\tremaining: 5.92s\n",
            "999:\tlearn: 0.4836834\ttotal: 30.8s\tremaining: 0us\n",
            "Precisión del modelo CatBoost: 74.66%\n",
            "\n",
            "Reporte de clasificación:\n",
            "              precision    recall  f1-score   support\n",
            "\n",
            "         0.0       0.77      0.71      0.74      8629\n",
            "         1.0       0.73      0.78      0.76      8690\n",
            "\n",
            "    accuracy                           0.75     17319\n",
            "   macro avg       0.75      0.75      0.75     17319\n",
            "weighted avg       0.75      0.75      0.75     17319\n",
            "\n",
            "Recall por clase: 78.49%\n",
            "       Real  Predicción\n",
            "43070   1.0         1.0\n",
            "15906   0.0         0.0\n",
            "66360   1.0         1.0\n",
            "7029    0.0         0.0\n",
            "8053    0.0         0.0\n"
          ]
        }
      ]
    },
    {
      "cell_type": "markdown",
      "source": [
        "MODELO XGBOOST"
      ],
      "metadata": {
        "id": "QBYqFqirIFMD"
      }
    },
    {
      "cell_type": "code",
      "source": [
        "#Entrenar el modelo de XGBoost\n",
        "model_XGBC = XGBClassifier(n_estimators=100, learning_rate=0.1, random_state=64)\n",
        "#Evaluar el modelo\n",
        "model_XGBC.fit(X_train, y_train)\n",
        "# Predicciones\n",
        "y_pred = model_XGBC.predict(X_test)\n",
        "\n",
        "# Métricas\n",
        "accuracy = accuracy_score(y_test, y_pred)\n",
        "recall = recall_score(y_test, y_pred)\n",
        "\n",
        "print(f\"Exactitud XGBClassifier (Accuracy): {accuracy}\")\n",
        "print(f\"Sensibilidad XGBClassifier (Recall): {recall}\")\n",
        "print(\"\\nInforme de clasificación:\")\n",
        "print(classification_report(y_test, y_pred))"
      ],
      "metadata": {
        "colab": {
          "base_uri": "https://localhost:8080/"
        },
        "id": "WlxzDXwp8-5b",
        "outputId": "e4b56002-6fba-4dd2-8d72-f3eccefb0188"
      },
      "execution_count": 7,
      "outputs": [
        {
          "output_type": "stream",
          "name": "stdout",
          "text": [
            "Exactitud XGBClassifier (Accuracy): 0.749003984063745\n",
            "Sensibilidad XGBClassifier (Recall): 0.7840046029919447\n",
            "\n",
            "Informe de clasificación:\n",
            "              precision    recall  f1-score   support\n",
            "\n",
            "         0.0       0.77      0.71      0.74      8629\n",
            "         1.0       0.73      0.78      0.76      8690\n",
            "\n",
            "    accuracy                           0.75     17319\n",
            "   macro avg       0.75      0.75      0.75     17319\n",
            "weighted avg       0.75      0.75      0.75     17319\n",
            "\n"
          ]
        }
      ]
    },
    {
      "cell_type": "markdown",
      "source": [
        "REGRESIÓN LOGISTÍCA"
      ],
      "metadata": {
        "id": "pK1IMMaKJ6me"
      }
    },
    {
      "cell_type": "code",
      "source": [
        "# Entrenar el modelo de regresión logística\n",
        "LR_model= LogisticRegression(solver='liblinear', random_state=42)\n",
        "# Evaluar el modelo\n",
        "LR_model.fit(X_train, y_train)\n",
        "# Predicciones\n",
        "y_pred = LR_model.predict(X_test)\n",
        "\n",
        "# Métricas\n",
        "accuracy = accuracy_score(y_test, y_pred)\n",
        "recall = recall_score(y_test, y_pred)\n",
        "\n",
        "print(f\"Exactitud Reg Log (Accuracy): {accuracy}\")\n",
        "print(f\"Sensibilidad Reg Log (Recall): {recall}\")\n",
        "print(\"\\nInforme de clasificación:\")\n",
        "print(classification_report(y_test, y_pred))"
      ],
      "metadata": {
        "colab": {
          "base_uri": "https://localhost:8080/"
        },
        "id": "TLC9-MrRKE_z",
        "outputId": "ba3c12b8-1d2f-4461-c3e4-fff869246861"
      },
      "execution_count": 8,
      "outputs": [
        {
          "output_type": "stream",
          "name": "stdout",
          "text": [
            "Exactitud Reg Log (Accuracy): 0.7479069230325076\n",
            "Sensibilidad Reg Log (Recall): 0.7665132336018412\n",
            "\n",
            "Informe de clasificación:\n",
            "              precision    recall  f1-score   support\n",
            "\n",
            "         0.0       0.76      0.73      0.74      8629\n",
            "         1.0       0.74      0.77      0.75      8690\n",
            "\n",
            "    accuracy                           0.75     17319\n",
            "   macro avg       0.75      0.75      0.75     17319\n",
            "weighted avg       0.75      0.75      0.75     17319\n",
            "\n"
          ]
        }
      ]
    },
    {
      "cell_type": "markdown",
      "source": [
        "MODELO SUPPORT VECTOR MACHINE"
      ],
      "metadata": {
        "id": "9niiSJ2BVZv5"
      }
    },
    {
      "cell_type": "code",
      "source": [
        "# Entrenar el modelo SVM con Kernel linear\n",
        "svm_model = SVC(kernel='linear', random_state=42)\n",
        "svm_model.fit(X_train, y_train)\n",
        "\n",
        "# Predicciones\n",
        "y_pred = svm_model.predict(X_test)\n",
        "\n",
        "# Métricas\n",
        "accuracy = accuracy_score(y_test, y_pred)\n",
        "recall = recall_score(y_test, y_pred)\n",
        "\n",
        "print(f\"Exactitud SVM (Accuracy): {accuracy}\")\n",
        "print(f\"Sensibilidad SVM (Recall): {recall}\")\n",
        "print(\"\\nInforme de clasificación:\")\n",
        "print(classification_report(y_test, y_pred))"
      ],
      "metadata": {
        "id": "zkn2r7LAVrz_",
        "colab": {
          "base_uri": "https://localhost:8080/"
        },
        "outputId": "df15d646-3743-4d36-aea8-29458f659f43"
      },
      "execution_count": 9,
      "outputs": [
        {
          "output_type": "stream",
          "name": "stdout",
          "text": [
            "Exactitud SVM (Accuracy): 0.7475604827068537\n",
            "Sensibilidad SVM (Recall): 0.7879171461449942\n",
            "\n",
            "Informe de clasificación:\n",
            "              precision    recall  f1-score   support\n",
            "\n",
            "         0.0       0.77      0.71      0.74      8629\n",
            "         1.0       0.73      0.79      0.76      8690\n",
            "\n",
            "    accuracy                           0.75     17319\n",
            "   macro avg       0.75      0.75      0.75     17319\n",
            "weighted avg       0.75      0.75      0.75     17319\n",
            "\n"
          ]
        }
      ]
    }
  ]
}